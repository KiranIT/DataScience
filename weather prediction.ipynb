{
 "cells": [
  {
   "cell_type": "code",
   "execution_count": 1,
   "metadata": {},
   "outputs": [
    {
     "name": "stderr",
     "output_type": "stream",
     "text": [
      "C:\\Users\\prabhakar\\Anaconda3\\lib\\site-packages\\statsmodels\\tools\\_testing.py:19: FutureWarning: pandas.util.testing is deprecated. Use the functions in the public API at pandas.testing instead.\n",
      "  import pandas.util.testing as tm\n"
     ]
    }
   ],
   "source": [
    "import pandas as pd, numpy as np, matplotlib.pyplot as plt, seaborn as sns"
   ]
  },
  {
   "cell_type": "code",
   "execution_count": 2,
   "metadata": {},
   "outputs": [],
   "source": [
    "data1 = pd.read_csv('climbing_statistics.csv')"
   ]
  },
  {
   "cell_type": "code",
   "execution_count": 3,
   "metadata": {},
   "outputs": [
    {
     "data": {
      "text/html": [
       "<div>\n",
       "<style scoped>\n",
       "    .dataframe tbody tr th:only-of-type {\n",
       "        vertical-align: middle;\n",
       "    }\n",
       "\n",
       "    .dataframe tbody tr th {\n",
       "        vertical-align: top;\n",
       "    }\n",
       "\n",
       "    .dataframe thead th {\n",
       "        text-align: right;\n",
       "    }\n",
       "</style>\n",
       "<table border=\"1\" class=\"dataframe\">\n",
       "  <thead>\n",
       "    <tr style=\"text-align: right;\">\n",
       "      <th></th>\n",
       "      <th>Date</th>\n",
       "      <th>Route</th>\n",
       "      <th>Attempted</th>\n",
       "      <th>Succeeded</th>\n",
       "      <th>Success Percentage</th>\n",
       "    </tr>\n",
       "  </thead>\n",
       "  <tbody>\n",
       "    <tr>\n",
       "      <th>0</th>\n",
       "      <td>11/27/2015</td>\n",
       "      <td>Disappointment Cleaver</td>\n",
       "      <td>2</td>\n",
       "      <td>0</td>\n",
       "      <td>0.0</td>\n",
       "    </tr>\n",
       "    <tr>\n",
       "      <th>1</th>\n",
       "      <td>11/21/2015</td>\n",
       "      <td>Disappointment Cleaver</td>\n",
       "      <td>3</td>\n",
       "      <td>0</td>\n",
       "      <td>0.0</td>\n",
       "    </tr>\n",
       "    <tr>\n",
       "      <th>2</th>\n",
       "      <td>10/15/2015</td>\n",
       "      <td>Disappointment Cleaver</td>\n",
       "      <td>2</td>\n",
       "      <td>0</td>\n",
       "      <td>0.0</td>\n",
       "    </tr>\n",
       "    <tr>\n",
       "      <th>3</th>\n",
       "      <td>10/13/2015</td>\n",
       "      <td>Little Tahoma</td>\n",
       "      <td>8</td>\n",
       "      <td>0</td>\n",
       "      <td>0.0</td>\n",
       "    </tr>\n",
       "    <tr>\n",
       "      <th>4</th>\n",
       "      <td>10/9/2015</td>\n",
       "      <td>Disappointment Cleaver</td>\n",
       "      <td>2</td>\n",
       "      <td>0</td>\n",
       "      <td>0.0</td>\n",
       "    </tr>\n",
       "  </tbody>\n",
       "</table>\n",
       "</div>"
      ],
      "text/plain": [
       "         Date                   Route  Attempted  Succeeded  \\\n",
       "0  11/27/2015  Disappointment Cleaver          2          0   \n",
       "1  11/21/2015  Disappointment Cleaver          3          0   \n",
       "2  10/15/2015  Disappointment Cleaver          2          0   \n",
       "3  10/13/2015           Little Tahoma          8          0   \n",
       "4   10/9/2015  Disappointment Cleaver          2          0   \n",
       "\n",
       "   Success Percentage  \n",
       "0                 0.0  \n",
       "1                 0.0  \n",
       "2                 0.0  \n",
       "3                 0.0  \n",
       "4                 0.0  "
      ]
     },
     "execution_count": 3,
     "metadata": {},
     "output_type": "execute_result"
    }
   ],
   "source": [
    "data1.head()"
   ]
  },
  {
   "cell_type": "code",
   "execution_count": 4,
   "metadata": {},
   "outputs": [],
   "source": [
    "data2 = pd.read_csv('Rainier_Weather.csv')"
   ]
  },
  {
   "cell_type": "code",
   "execution_count": 5,
   "metadata": {},
   "outputs": [
    {
     "data": {
      "text/html": [
       "<div>\n",
       "<style scoped>\n",
       "    .dataframe tbody tr th:only-of-type {\n",
       "        vertical-align: middle;\n",
       "    }\n",
       "\n",
       "    .dataframe tbody tr th {\n",
       "        vertical-align: top;\n",
       "    }\n",
       "\n",
       "    .dataframe thead th {\n",
       "        text-align: right;\n",
       "    }\n",
       "</style>\n",
       "<table border=\"1\" class=\"dataframe\">\n",
       "  <thead>\n",
       "    <tr style=\"text-align: right;\">\n",
       "      <th></th>\n",
       "      <th>Date</th>\n",
       "      <th>Battery Voltage AVG</th>\n",
       "      <th>Temperature AVG</th>\n",
       "      <th>Relative Humidity AVG</th>\n",
       "      <th>Wind Speed Daily AVG</th>\n",
       "      <th>Wind Direction AVG</th>\n",
       "      <th>Solare Radiation AVG</th>\n",
       "    </tr>\n",
       "  </thead>\n",
       "  <tbody>\n",
       "    <tr>\n",
       "      <th>0</th>\n",
       "      <td>12/31/2015</td>\n",
       "      <td>13.845000</td>\n",
       "      <td>19.062917</td>\n",
       "      <td>21.870833</td>\n",
       "      <td>21.977792</td>\n",
       "      <td>62.325833</td>\n",
       "      <td>84.915292</td>\n",
       "    </tr>\n",
       "    <tr>\n",
       "      <th>1</th>\n",
       "      <td>12/30/2015</td>\n",
       "      <td>13.822917</td>\n",
       "      <td>14.631208</td>\n",
       "      <td>18.493833</td>\n",
       "      <td>3.540542</td>\n",
       "      <td>121.505417</td>\n",
       "      <td>86.192833</td>\n",
       "    </tr>\n",
       "    <tr>\n",
       "      <th>2</th>\n",
       "      <td>12/29/2015</td>\n",
       "      <td>13.834583</td>\n",
       "      <td>6.614292</td>\n",
       "      <td>34.072917</td>\n",
       "      <td>0.000000</td>\n",
       "      <td>130.291667</td>\n",
       "      <td>85.100917</td>\n",
       "    </tr>\n",
       "    <tr>\n",
       "      <th>3</th>\n",
       "      <td>12/28/2015</td>\n",
       "      <td>13.710417</td>\n",
       "      <td>8.687042</td>\n",
       "      <td>70.557917</td>\n",
       "      <td>0.000000</td>\n",
       "      <td>164.683750</td>\n",
       "      <td>86.241250</td>\n",
       "    </tr>\n",
       "    <tr>\n",
       "      <th>4</th>\n",
       "      <td>12/27/2015</td>\n",
       "      <td>13.362500</td>\n",
       "      <td>14.140417</td>\n",
       "      <td>95.754167</td>\n",
       "      <td>0.000000</td>\n",
       "      <td>268.479167</td>\n",
       "      <td>31.090708</td>\n",
       "    </tr>\n",
       "  </tbody>\n",
       "</table>\n",
       "</div>"
      ],
      "text/plain": [
       "         Date  Battery Voltage AVG  Temperature AVG  Relative Humidity AVG  \\\n",
       "0  12/31/2015            13.845000        19.062917              21.870833   \n",
       "1  12/30/2015            13.822917        14.631208              18.493833   \n",
       "2  12/29/2015            13.834583         6.614292              34.072917   \n",
       "3  12/28/2015            13.710417         8.687042              70.557917   \n",
       "4  12/27/2015            13.362500        14.140417              95.754167   \n",
       "\n",
       "   Wind Speed Daily AVG  Wind Direction AVG  Solare Radiation AVG  \n",
       "0             21.977792           62.325833             84.915292  \n",
       "1              3.540542          121.505417             86.192833  \n",
       "2              0.000000          130.291667             85.100917  \n",
       "3              0.000000          164.683750             86.241250  \n",
       "4              0.000000          268.479167             31.090708  "
      ]
     },
     "execution_count": 5,
     "metadata": {},
     "output_type": "execute_result"
    }
   ],
   "source": [
    "data2.head()"
   ]
  },
  {
   "cell_type": "code",
   "execution_count": 6,
   "metadata": {},
   "outputs": [
    {
     "data": {
      "text/plain": [
       "Date                  0\n",
       "Route                 0\n",
       "Attempted             0\n",
       "Succeeded             0\n",
       "Success Percentage    0\n",
       "dtype: int64"
      ]
     },
     "execution_count": 6,
     "metadata": {},
     "output_type": "execute_result"
    }
   ],
   "source": [
    "data1.isna().sum()"
   ]
  },
  {
   "cell_type": "code",
   "execution_count": 7,
   "metadata": {},
   "outputs": [
    {
     "data": {
      "text/plain": [
       "Date                     0\n",
       "Battery Voltage AVG      0\n",
       "Temperature AVG          0\n",
       "Relative Humidity AVG    0\n",
       "Wind Speed Daily AVG     0\n",
       "Wind Direction AVG       0\n",
       "Solare Radiation AVG     0\n",
       "dtype: int64"
      ]
     },
     "execution_count": 7,
     "metadata": {},
     "output_type": "execute_result"
    }
   ],
   "source": [
    "data2.isna().sum()"
   ]
  },
  {
   "cell_type": "code",
   "execution_count": 8,
   "metadata": {},
   "outputs": [],
   "source": [
    "#merging two files\n",
    "df = pd.merge(data1,data2, on = 'Date')"
   ]
  },
  {
   "cell_type": "code",
   "execution_count": 9,
   "metadata": {},
   "outputs": [
    {
     "data": {
      "text/html": [
       "<div>\n",
       "<style scoped>\n",
       "    .dataframe tbody tr th:only-of-type {\n",
       "        vertical-align: middle;\n",
       "    }\n",
       "\n",
       "    .dataframe tbody tr th {\n",
       "        vertical-align: top;\n",
       "    }\n",
       "\n",
       "    .dataframe thead th {\n",
       "        text-align: right;\n",
       "    }\n",
       "</style>\n",
       "<table border=\"1\" class=\"dataframe\">\n",
       "  <thead>\n",
       "    <tr style=\"text-align: right;\">\n",
       "      <th></th>\n",
       "      <th>Date</th>\n",
       "      <th>Route</th>\n",
       "      <th>Attempted</th>\n",
       "      <th>Succeeded</th>\n",
       "      <th>Success Percentage</th>\n",
       "      <th>Battery Voltage AVG</th>\n",
       "      <th>Temperature AVG</th>\n",
       "      <th>Relative Humidity AVG</th>\n",
       "      <th>Wind Speed Daily AVG</th>\n",
       "      <th>Wind Direction AVG</th>\n",
       "      <th>Solare Radiation AVG</th>\n",
       "    </tr>\n",
       "  </thead>\n",
       "  <tbody>\n",
       "    <tr>\n",
       "      <th>0</th>\n",
       "      <td>11/27/2015</td>\n",
       "      <td>Disappointment Cleaver</td>\n",
       "      <td>2</td>\n",
       "      <td>0</td>\n",
       "      <td>0.0</td>\n",
       "      <td>13.643750</td>\n",
       "      <td>26.321667</td>\n",
       "      <td>19.715000</td>\n",
       "      <td>27.839583</td>\n",
       "      <td>68.004167</td>\n",
       "      <td>88.496250</td>\n",
       "    </tr>\n",
       "    <tr>\n",
       "      <th>1</th>\n",
       "      <td>11/21/2015</td>\n",
       "      <td>Disappointment Cleaver</td>\n",
       "      <td>3</td>\n",
       "      <td>0</td>\n",
       "      <td>0.0</td>\n",
       "      <td>13.749583</td>\n",
       "      <td>31.300000</td>\n",
       "      <td>21.690708</td>\n",
       "      <td>2.245833</td>\n",
       "      <td>117.549667</td>\n",
       "      <td>93.660417</td>\n",
       "    </tr>\n",
       "    <tr>\n",
       "      <th>2</th>\n",
       "      <td>10/15/2015</td>\n",
       "      <td>Disappointment Cleaver</td>\n",
       "      <td>2</td>\n",
       "      <td>0</td>\n",
       "      <td>0.0</td>\n",
       "      <td>13.461250</td>\n",
       "      <td>46.447917</td>\n",
       "      <td>27.211250</td>\n",
       "      <td>17.163625</td>\n",
       "      <td>259.121375</td>\n",
       "      <td>138.387000</td>\n",
       "    </tr>\n",
       "    <tr>\n",
       "      <th>3</th>\n",
       "      <td>10/13/2015</td>\n",
       "      <td>Little Tahoma</td>\n",
       "      <td>8</td>\n",
       "      <td>0</td>\n",
       "      <td>0.0</td>\n",
       "      <td>13.532083</td>\n",
       "      <td>40.979583</td>\n",
       "      <td>28.335708</td>\n",
       "      <td>19.591167</td>\n",
       "      <td>279.779167</td>\n",
       "      <td>176.382667</td>\n",
       "    </tr>\n",
       "    <tr>\n",
       "      <th>4</th>\n",
       "      <td>10/9/2015</td>\n",
       "      <td>Disappointment Cleaver</td>\n",
       "      <td>2</td>\n",
       "      <td>0</td>\n",
       "      <td>0.0</td>\n",
       "      <td>13.216250</td>\n",
       "      <td>38.260417</td>\n",
       "      <td>74.329167</td>\n",
       "      <td>65.138333</td>\n",
       "      <td>264.687500</td>\n",
       "      <td>27.791292</td>\n",
       "    </tr>\n",
       "  </tbody>\n",
       "</table>\n",
       "</div>"
      ],
      "text/plain": [
       "         Date                   Route  Attempted  Succeeded  \\\n",
       "0  11/27/2015  Disappointment Cleaver          2          0   \n",
       "1  11/21/2015  Disappointment Cleaver          3          0   \n",
       "2  10/15/2015  Disappointment Cleaver          2          0   \n",
       "3  10/13/2015           Little Tahoma          8          0   \n",
       "4   10/9/2015  Disappointment Cleaver          2          0   \n",
       "\n",
       "   Success Percentage  Battery Voltage AVG  Temperature AVG  \\\n",
       "0                 0.0            13.643750        26.321667   \n",
       "1                 0.0            13.749583        31.300000   \n",
       "2                 0.0            13.461250        46.447917   \n",
       "3                 0.0            13.532083        40.979583   \n",
       "4                 0.0            13.216250        38.260417   \n",
       "\n",
       "   Relative Humidity AVG  Wind Speed Daily AVG  Wind Direction AVG  \\\n",
       "0              19.715000             27.839583           68.004167   \n",
       "1              21.690708              2.245833          117.549667   \n",
       "2              27.211250             17.163625          259.121375   \n",
       "3              28.335708             19.591167          279.779167   \n",
       "4              74.329167             65.138333          264.687500   \n",
       "\n",
       "   Solare Radiation AVG  \n",
       "0             88.496250  \n",
       "1             93.660417  \n",
       "2            138.387000  \n",
       "3            176.382667  \n",
       "4             27.791292  "
      ]
     },
     "execution_count": 9,
     "metadata": {},
     "output_type": "execute_result"
    }
   ],
   "source": [
    "df.head()"
   ]
  },
  {
   "cell_type": "code",
   "execution_count": 11,
   "metadata": {},
   "outputs": [
    {
     "data": {
      "text/plain": [
       "Date                     0\n",
       "Route                    0\n",
       "Attempted                0\n",
       "Succeeded                0\n",
       "Success Percentage       0\n",
       "Battery Voltage AVG      0\n",
       "Temperature AVG          0\n",
       "Relative Humidity AVG    0\n",
       "Wind Speed Daily AVG     0\n",
       "Wind Direction AVG       0\n",
       "Solare Radiation AVG     0\n",
       "dtype: int64"
      ]
     },
     "execution_count": 11,
     "metadata": {},
     "output_type": "execute_result"
    }
   ],
   "source": [
    "df.isna().sum()"
   ]
  },
  {
   "cell_type": "code",
   "execution_count": 12,
   "metadata": {},
   "outputs": [
    {
     "name": "stdout",
     "output_type": "stream",
     "text": [
      "<class 'pandas.core.frame.DataFrame'>\n",
      "Int64Index: 1895 entries, 0 to 1894\n",
      "Data columns (total 11 columns):\n",
      " #   Column                 Non-Null Count  Dtype  \n",
      "---  ------                 --------------  -----  \n",
      " 0   Date                   1895 non-null   object \n",
      " 1   Route                  1895 non-null   object \n",
      " 2   Attempted              1895 non-null   int64  \n",
      " 3   Succeeded              1895 non-null   int64  \n",
      " 4   Success Percentage     1895 non-null   float64\n",
      " 5   Battery Voltage AVG    1895 non-null   float64\n",
      " 6   Temperature AVG        1895 non-null   float64\n",
      " 7   Relative Humidity AVG  1895 non-null   float64\n",
      " 8   Wind Speed Daily AVG   1895 non-null   float64\n",
      " 9   Wind Direction AVG     1895 non-null   float64\n",
      " 10  Solare Radiation AVG   1895 non-null   float64\n",
      "dtypes: float64(7), int64(2), object(2)\n",
      "memory usage: 177.7+ KB\n"
     ]
    }
   ],
   "source": [
    "df.info()"
   ]
  },
  {
   "cell_type": "code",
   "execution_count": 13,
   "metadata": {},
   "outputs": [
    {
     "data": {
      "text/plain": [
       "Index(['Date', 'Route', 'Attempted', 'Succeeded', 'Success Percentage',\n",
       "       'Battery Voltage AVG', 'Temperature AVG', 'Relative Humidity AVG',\n",
       "       'Wind Speed Daily AVG', 'Wind Direction AVG', 'Solare Radiation AVG'],\n",
       "      dtype='object')"
      ]
     },
     "execution_count": 13,
     "metadata": {},
     "output_type": "execute_result"
    }
   ],
   "source": [
    "df.columns"
   ]
  },
  {
   "cell_type": "code",
   "execution_count": 14,
   "metadata": {},
   "outputs": [
    {
     "data": {
      "text/plain": [
       "array(['Disappointment Cleaver', 'Little Tahoma', 'Kautz Glacier',\n",
       "       'Emmons-Winthrop', 'glacier only - no summit attempt',\n",
       "       'Fuhrers Finger', 'Success Cleaver', 'Liberty RIngraham Directge',\n",
       "       'Kautz Cleaver', 'Tahoma Glacier', 'Ptarmigan RIngraham Directge',\n",
       "       'Mowich Face', 'Ingraham Direct', 'Sunset RIngraham Directge',\n",
       "       'Curtis RIngraham Directge', 'Tahoma Cleaver', 'Gibralter Ledges',\n",
       "       'Nisqually Glacier', 'Wilson Headwall', 'Gibralter Chute',\n",
       "       \"Fuhrer's Finger\", 'Unknown'], dtype=object)"
      ]
     },
     "execution_count": 14,
     "metadata": {},
     "output_type": "execute_result"
    }
   ],
   "source": [
    "df.Route.unique()"
   ]
  },
  {
   "cell_type": "code",
   "execution_count": 16,
   "metadata": {},
   "outputs": [
    {
     "data": {
      "text/plain": [
       "array([ 0.        ,  0.33333333,  0.5       ,  0.25      ,  0.75      ,\n",
       "        0.54545455,  0.09090909,  0.9       ,  0.58333333,  0.875     ,\n",
       "        1.        ,  0.91666667,  0.83333333,  0.41666667,  0.81818182,\n",
       "        0.55555556,  1.33333333,  0.7       ,  0.66666667,  0.77777778,\n",
       "        0.16666667,  0.63636364,  2.        ,  0.36363636,  0.8       ,\n",
       "        0.4       ,  0.72727273,  0.90909091,  0.6       ,  0.88888889,\n",
       "        0.57142857,  0.42857143,  0.71428571, 14.2       ,  0.45454545,\n",
       "        0.85714286,  2.5       ,  1.1       ,  0.44444444])"
      ]
     },
     "execution_count": 16,
     "metadata": {},
     "output_type": "execute_result"
    }
   ],
   "source": [
    "df['Success Percentage'].unique()"
   ]
  },
  {
   "cell_type": "code",
   "execution_count": 17,
   "metadata": {},
   "outputs": [
    {
     "data": {
      "text/plain": [
       "array([ 2,  3,  8, 10, 12, 11,  9,  1,  4,  6,  5,  7], dtype=int64)"
      ]
     },
     "execution_count": 17,
     "metadata": {},
     "output_type": "execute_result"
    }
   ],
   "source": [
    "df.Attempted.unique()"
   ]
  },
  {
   "cell_type": "code",
   "execution_count": 19,
   "metadata": {},
   "outputs": [
    {
     "data": {
      "text/plain": [
       "array([ 0,  4,  6,  3,  9,  1,  7, 12,  2, 11, 10,  5,  8, 71],\n",
       "      dtype=int64)"
      ]
     },
     "execution_count": 19,
     "metadata": {},
     "output_type": "execute_result"
    }
   ],
   "source": [
    "df['Succeeded'].unique()"
   ]
  },
  {
   "cell_type": "code",
   "execution_count": 20,
   "metadata": {},
   "outputs": [
    {
     "data": {
      "text/html": [
       "<div>\n",
       "<style scoped>\n",
       "    .dataframe tbody tr th:only-of-type {\n",
       "        vertical-align: middle;\n",
       "    }\n",
       "\n",
       "    .dataframe tbody tr th {\n",
       "        vertical-align: top;\n",
       "    }\n",
       "\n",
       "    .dataframe thead th {\n",
       "        text-align: right;\n",
       "    }\n",
       "</style>\n",
       "<table border=\"1\" class=\"dataframe\">\n",
       "  <thead>\n",
       "    <tr style=\"text-align: right;\">\n",
       "      <th></th>\n",
       "      <th>Attempted</th>\n",
       "      <th>Succeeded</th>\n",
       "      <th>Success Percentage</th>\n",
       "      <th>Battery Voltage AVG</th>\n",
       "      <th>Temperature AVG</th>\n",
       "      <th>Relative Humidity AVG</th>\n",
       "      <th>Wind Speed Daily AVG</th>\n",
       "      <th>Wind Direction AVG</th>\n",
       "      <th>Solare Radiation AVG</th>\n",
       "    </tr>\n",
       "  </thead>\n",
       "  <tbody>\n",
       "    <tr>\n",
       "      <th>count</th>\n",
       "      <td>1895.000000</td>\n",
       "      <td>1895.000000</td>\n",
       "      <td>1895.000000</td>\n",
       "      <td>1895.000000</td>\n",
       "      <td>1895.000000</td>\n",
       "      <td>1895.000000</td>\n",
       "      <td>1895.000000</td>\n",
       "      <td>1895.000000</td>\n",
       "      <td>1895.000000</td>\n",
       "    </tr>\n",
       "    <tr>\n",
       "      <th>mean</th>\n",
       "      <td>5.360422</td>\n",
       "      <td>2.616359</td>\n",
       "      <td>0.460795</td>\n",
       "      <td>13.502638</td>\n",
       "      <td>40.711181</td>\n",
       "      <td>47.828637</td>\n",
       "      <td>10.503668</td>\n",
       "      <td>155.335106</td>\n",
       "      <td>261.602649</td>\n",
       "    </tr>\n",
       "    <tr>\n",
       "      <th>std</th>\n",
       "      <td>3.906702</td>\n",
       "      <td>3.705221</td>\n",
       "      <td>0.559630</td>\n",
       "      <td>0.070450</td>\n",
       "      <td>9.104555</td>\n",
       "      <td>22.154579</td>\n",
       "      <td>9.149581</td>\n",
       "      <td>91.106436</td>\n",
       "      <td>110.452313</td>\n",
       "    </tr>\n",
       "    <tr>\n",
       "      <th>min</th>\n",
       "      <td>1.000000</td>\n",
       "      <td>0.000000</td>\n",
       "      <td>0.000000</td>\n",
       "      <td>12.987917</td>\n",
       "      <td>6.834833</td>\n",
       "      <td>12.363500</td>\n",
       "      <td>0.000000</td>\n",
       "      <td>13.490000</td>\n",
       "      <td>0.000000</td>\n",
       "    </tr>\n",
       "    <tr>\n",
       "      <th>25%</th>\n",
       "      <td>2.000000</td>\n",
       "      <td>0.000000</td>\n",
       "      <td>0.000000</td>\n",
       "      <td>13.453333</td>\n",
       "      <td>33.376667</td>\n",
       "      <td>30.057083</td>\n",
       "      <td>4.453854</td>\n",
       "      <td>55.173375</td>\n",
       "      <td>221.494000</td>\n",
       "    </tr>\n",
       "    <tr>\n",
       "      <th>50%</th>\n",
       "      <td>3.000000</td>\n",
       "      <td>2.000000</td>\n",
       "      <td>0.416667</td>\n",
       "      <td>13.492500</td>\n",
       "      <td>40.049167</td>\n",
       "      <td>46.140417</td>\n",
       "      <td>7.395958</td>\n",
       "      <td>171.633375</td>\n",
       "      <td>304.605708</td>\n",
       "    </tr>\n",
       "    <tr>\n",
       "      <th>75%</th>\n",
       "      <td>9.000000</td>\n",
       "      <td>4.000000</td>\n",
       "      <td>1.000000</td>\n",
       "      <td>13.546250</td>\n",
       "      <td>48.628750</td>\n",
       "      <td>64.750833</td>\n",
       "      <td>14.657875</td>\n",
       "      <td>235.496667</td>\n",
       "      <td>351.973292</td>\n",
       "    </tr>\n",
       "    <tr>\n",
       "      <th>max</th>\n",
       "      <td>12.000000</td>\n",
       "      <td>71.000000</td>\n",
       "      <td>14.200000</td>\n",
       "      <td>13.794583</td>\n",
       "      <td>56.153750</td>\n",
       "      <td>100.000000</td>\n",
       "      <td>65.138333</td>\n",
       "      <td>280.383333</td>\n",
       "      <td>368.056083</td>\n",
       "    </tr>\n",
       "  </tbody>\n",
       "</table>\n",
       "</div>"
      ],
      "text/plain": [
       "         Attempted    Succeeded  Success Percentage  Battery Voltage AVG  \\\n",
       "count  1895.000000  1895.000000         1895.000000          1895.000000   \n",
       "mean      5.360422     2.616359            0.460795            13.502638   \n",
       "std       3.906702     3.705221            0.559630             0.070450   \n",
       "min       1.000000     0.000000            0.000000            12.987917   \n",
       "25%       2.000000     0.000000            0.000000            13.453333   \n",
       "50%       3.000000     2.000000            0.416667            13.492500   \n",
       "75%       9.000000     4.000000            1.000000            13.546250   \n",
       "max      12.000000    71.000000           14.200000            13.794583   \n",
       "\n",
       "       Temperature AVG  Relative Humidity AVG  Wind Speed Daily AVG  \\\n",
       "count      1895.000000            1895.000000           1895.000000   \n",
       "mean         40.711181              47.828637             10.503668   \n",
       "std           9.104555              22.154579              9.149581   \n",
       "min           6.834833              12.363500              0.000000   \n",
       "25%          33.376667              30.057083              4.453854   \n",
       "50%          40.049167              46.140417              7.395958   \n",
       "75%          48.628750              64.750833             14.657875   \n",
       "max          56.153750             100.000000             65.138333   \n",
       "\n",
       "       Wind Direction AVG  Solare Radiation AVG  \n",
       "count         1895.000000           1895.000000  \n",
       "mean           155.335106            261.602649  \n",
       "std             91.106436            110.452313  \n",
       "min             13.490000              0.000000  \n",
       "25%             55.173375            221.494000  \n",
       "50%            171.633375            304.605708  \n",
       "75%            235.496667            351.973292  \n",
       "max            280.383333            368.056083  "
      ]
     },
     "execution_count": 20,
     "metadata": {},
     "output_type": "execute_result"
    }
   ],
   "source": [
    "df.describe()"
   ]
  },
  {
   "cell_type": "code",
   "execution_count": 22,
   "metadata": {},
   "outputs": [
    {
     "data": {
      "text/plain": [
       "<matplotlib.axes._subplots.AxesSubplot at 0x1ee7b7be4c8>"
      ]
     },
     "execution_count": 22,
     "metadata": {},
     "output_type": "execute_result"
    },
    {
     "data": {
      "image/png": "[encoded data removed]",
      "text/plain": [
       "<Figure size 432x288 with 2 Axes>"
      ]
     },
     "metadata": {
      "needs_background": "light"
     },
     "output_type": "display_data"
    }
   ],
   "source": [
    "sns.heatmap(df.corr(),annot = True)"
   ]
  },
  {
   "cell_type": "code",
   "execution_count": 25,
   "metadata": {},
   "outputs": [],
   "source": [
    "from sklearn.model_selection import train_test_split"
   ]
  },
  {
   "cell_type": "code",
   "execution_count": 26,
   "metadata": {},
   "outputs": [
    {
     "data": {
      "text/plain": [
       "Index(['Date', 'Route', 'Attempted', 'Succeeded', 'Success Percentage',\n",
       "       'Battery Voltage AVG', 'Temperature AVG', 'Relative Humidity AVG',\n",
       "       'Wind Speed Daily AVG', 'Wind Direction AVG', 'Solare Radiation AVG'],\n",
       "      dtype='object')"
      ]
     },
     "execution_count": 26,
     "metadata": {},
     "output_type": "execute_result"
    }
   ],
   "source": [
    "df.columns"
   ]
  },
  {
   "cell_type": "code",
   "execution_count": 28,
   "metadata": {},
   "outputs": [],
   "source": [
    "df = df.drop(['Date','Route'], axis = True)"
   ]
  },
  {
   "cell_type": "code",
   "execution_count": 30,
   "metadata": {},
   "outputs": [],
   "source": [
    "x = df.loc[:,['Attempted', 'Succeeded','Battery Voltage AVG', 'Temperature AVG', 'Relative Humidity AVG',\n",
    "       'Wind Speed Daily AVG', 'Wind Direction AVG', 'Solare Radiation AVG']]"
   ]
  },
  {
   "cell_type": "code",
   "execution_count": 31,
   "metadata": {},
   "outputs": [
    {
     "data": {
      "text/plain": [
       "(1895, 8)"
      ]
     },
     "execution_count": 31,
     "metadata": {},
     "output_type": "execute_result"
    }
   ],
   "source": [
    "x.shape"
   ]
  },
  {
   "cell_type": "code",
   "execution_count": 35,
   "metadata": {},
   "outputs": [],
   "source": [
    "y = df.iloc[:,2]"
   ]
  },
  {
   "cell_type": "code",
   "execution_count": 36,
   "metadata": {},
   "outputs": [
    {
     "data": {
      "text/plain": [
       "0    0.0\n",
       "1    0.0\n",
       "2    0.0\n",
       "Name: Success Percentage, dtype: float64"
      ]
     },
     "execution_count": 36,
     "metadata": {},
     "output_type": "execute_result"
    }
   ],
   "source": [
    "y.head(3)"
   ]
  },
  {
   "cell_type": "code",
   "execution_count": 39,
   "metadata": {},
   "outputs": [],
   "source": [
    "x_tr,x_te,y_tr,y_te = train_test_split(x,y,test_size = 0.3,random_state = 42)"
   ]
  },
  {
   "cell_type": "code",
   "execution_count": 41,
   "metadata": {},
   "outputs": [
    {
     "name": "stdout",
     "output_type": "stream",
     "text": [
      "(1326, 8)\n",
      "(569, 8)\n",
      "(1326,)\n",
      "(569,)\n"
     ]
    }
   ],
   "source": [
    "print(x_tr.shape)\n",
    "print(x_te.shape)\n",
    "print(y_tr.shape)\n",
    "print(y_te.shape)"
   ]
  },
  {
   "cell_type": "code",
   "execution_count": 52,
   "metadata": {},
   "outputs": [],
   "source": [
    "from sklearn.linear_model import LinearRegression"
   ]
  },
  {
   "cell_type": "code",
   "execution_count": 54,
   "metadata": {},
   "outputs": [],
   "source": [
    "lr = LinearRegression()\n",
    "model = lr.fit(x_tr,y_tr)\n",
    "pred = model.predict(x_te)"
   ]
  },
  {
   "cell_type": "code",
   "execution_count": 55,
   "metadata": {},
   "outputs": [
    {
     "data": {
      "text/plain": [
       "0.7601387065634903"
      ]
     },
     "execution_count": 55,
     "metadata": {},
     "output_type": "execute_result"
    }
   ],
   "source": [
    "model.score(x_tr,y_tr)"
   ]
  },
  {
   "cell_type": "code",
   "execution_count": 58,
   "metadata": {},
   "outputs": [
    {
     "data": {
      "text/plain": [
       "0.6189412791164279"
      ]
     },
     "execution_count": 58,
     "metadata": {},
     "output_type": "execute_result"
    }
   ],
   "source": [
    "model.score(x_te,y_te)"
   ]
  },
  {
   "cell_type": "code",
   "execution_count": 82,
   "metadata": {},
   "outputs": [
    {
     "name": "stdout",
     "output_type": "stream",
     "text": [
      "MSE: 0.08311395719663921\n",
      "RMSE: 0.28829491358093573\n"
     ]
    }
   ],
   "source": [
    "from sklearn import metrics\n",
    "\n",
    "print('MSE:', metrics.mean_squared_error(y_te, pred))\n",
    "print('RMSE:', np.sqrt(metrics.mean_squared_error(y_te, pred)))"
   ]
  },
  {
   "cell_type": "code",
   "execution_count": 62,
   "metadata": {},
   "outputs": [],
   "source": [
    "import statsmodels.api as sm"
   ]
  },
  {
   "cell_type": "code",
   "execution_count": 67,
   "metadata": {},
   "outputs": [],
   "source": [
    "model1 = sm.OLS(y_tr,x_tr).fit()"
   ]
  },
  {
   "cell_type": "code",
   "execution_count": 68,
   "metadata": {},
   "outputs": [
    {
     "name": "stdout",
     "output_type": "stream",
     "text": [
      "                                 OLS Regression Results                                \n",
      "=======================================================================================\n",
      "Dep. Variable:     Success Percentage   R-squared (uncentered):                   0.850\n",
      "Model:                            OLS   Adj. R-squared (uncentered):              0.849\n",
      "Method:                 Least Squares   F-statistic:                              933.4\n",
      "Date:                Tue, 04 Aug 2020   Prob (F-statistic):                        0.00\n",
      "Time:                        16:50:28   Log-Likelihood:                         -246.48\n",
      "No. Observations:                1326   AIC:                                      509.0\n",
      "Df Residuals:                    1318   BIC:                                      550.5\n",
      "Df Model:                           8                                                  \n",
      "Covariance Type:            nonrobust                                                  \n",
      "=========================================================================================\n",
      "                            coef    std err          t      P>|t|      [0.025      0.975]\n",
      "-----------------------------------------------------------------------------------------\n",
      "Attempted                -0.0711      0.002    -29.141      0.000      -0.076      -0.066\n",
      "Succeeded                 0.1575      0.003     62.482      0.000       0.153       0.162\n",
      "Battery Voltage AVG       0.0211      0.005      4.482      0.000       0.012       0.030\n",
      "Temperature AVG           0.0010      0.001      0.856      0.392      -0.001       0.003\n",
      "Relative Humidity AVG     0.0009      0.000      1.811      0.070   -7.29e-05       0.002\n",
      "Wind Speed Daily AVG      0.0012      0.001      1.288      0.198      -0.001       0.003\n",
      "Wind Direction AVG       -0.0001   9.21e-05     -1.150      0.250      -0.000    7.48e-05\n",
      "Solare Radiation AVG      0.0003   9.12e-05      2.915      0.004    8.69e-05       0.000\n",
      "==============================================================================\n",
      "Omnibus:                      353.640   Durbin-Watson:                   1.960\n",
      "Prob(Omnibus):                  0.000   Jarque-Bera (JB):             2575.080\n",
      "Skew:                           1.037   Prob(JB):                         0.00\n",
      "Kurtosis:                       9.504   Cond. No.                         195.\n",
      "==============================================================================\n",
      "\n",
      "Warnings:\n",
      "[1] Standard Errors assume that the covariance matrix of the errors is correctly specified.\n"
     ]
    }
   ],
   "source": [
    "print(model1.summary())"
   ]
  },
  {
   "cell_type": "code",
   "execution_count": 69,
   "metadata": {},
   "outputs": [
    {
     "name": "stderr",
     "output_type": "stream",
     "text": [
      "C:\\Users\\prabhakar\\Anaconda3\\lib\\site-packages\\sklearn\\ensemble\\forest.py:245: FutureWarning: The default value of n_estimators will change from 10 in version 0.20 to 100 in 0.22.\n",
      "  \"10 in version 0.20 to 100 in 0.22.\", FutureWarning)\n"
     ]
    }
   ],
   "source": [
    "from sklearn.ensemble import RandomForestRegressor\n",
    "reg_rf = RandomForestRegressor()\n",
    "reg_rf.fit(x_tr, y_tr)\n",
    "pred1 = reg_rf.predict(x_te)"
   ]
  },
  {
   "cell_type": "code",
   "execution_count": 70,
   "metadata": {},
   "outputs": [
    {
     "data": {
      "text/plain": [
       "0.8657697586163114"
      ]
     },
     "execution_count": 70,
     "metadata": {},
     "output_type": "execute_result"
    }
   ],
   "source": [
    "reg_rf.score(x_tr,y_tr)"
   ]
  },
  {
   "cell_type": "code",
   "execution_count": 71,
   "metadata": {},
   "outputs": [
    {
     "data": {
      "text/plain": [
       "0.9885464079684467"
      ]
     },
     "execution_count": 71,
     "metadata": {},
     "output_type": "execute_result"
    }
   ],
   "source": [
    "reg_rf.score(x_te,y_te)"
   ]
  },
  {
   "cell_type": "code",
   "execution_count": 81,
   "metadata": {},
   "outputs": [
    {
     "name": "stdout",
     "output_type": "stream",
     "text": [
      "MSE: 0.002498180216558135\n",
      "RMSE: 0.04998179885276374\n"
     ]
    }
   ],
   "source": [
    "from sklearn import metrics\n",
    "\n",
    "print('MSE:', metrics.mean_squared_error(y_te, pred1))\n",
    "print('RMSE:', np.sqrt(metrics.mean_squared_error(y_te, pred1)))"
   ]
  },
  {
   "cell_type": "code",
   "execution_count": 74,
   "metadata": {},
   "outputs": [],
   "source": [
    "from sklearn.neighbors import KNeighborsRegressor"
   ]
  },
  {
   "cell_type": "code",
   "execution_count": 75,
   "metadata": {},
   "outputs": [],
   "source": [
    "knn = KNeighborsRegressor()"
   ]
  },
  {
   "cell_type": "code",
   "execution_count": 76,
   "metadata": {},
   "outputs": [],
   "source": [
    "knn_model = knn.fit(x_tr,y_tr)"
   ]
  },
  {
   "cell_type": "code",
   "execution_count": 77,
   "metadata": {},
   "outputs": [],
   "source": [
    "knn_pred = knn_model.predict(x_te)"
   ]
  },
  {
   "cell_type": "code",
   "execution_count": 79,
   "metadata": {},
   "outputs": [
    {
     "name": "stdout",
     "output_type": "stream",
     "text": [
      "MSE: 0.11079719049863707\n",
      "RMSE: 0.3328621193506961\n"
     ]
    }
   ],
   "source": [
    "from sklearn import metrics\n",
    "\n",
    "print('MSE:', metrics.mean_squared_error(y_te, knn_pred))\n",
    "print('RMSE:', np.sqrt(metrics.mean_squared_error(y_te, knn_pred)))"
   ]
  },
  {
   "cell_type": "code",
   "execution_count": 80,
   "metadata": {},
   "outputs": [
    {
     "data": {
      "text/plain": [
       "0.492019907209865"
      ]
     },
     "execution_count": 80,
     "metadata": {},
     "output_type": "execute_result"
    }
   ],
   "source": [
    "metrics.r2_score(y_te,knn_pred)"
   ]
  },
  {
   "cell_type": "markdown",
   "metadata": {},
   "source": [
    "# RMSE of Random forest regressor is better compared to other models"
   ]
  },
  {
   "cell_type": "code",
   "execution_count": 83,
   "metadata": {},
   "outputs": [
    {
     "data": {
      "text/plain": [
       "0.6189412791164279"
      ]
     },
     "execution_count": 83,
     "metadata": {},
     "output_type": "execute_result"
    }
   ],
   "source": [
    "metrics.r2_score(y_te,pred)"
   ]
  },
  {
   "cell_type": "code",
   "execution_count": 84,
   "metadata": {},
   "outputs": [
    {
     "data": {
      "text/plain": [
       "0.9885464079684467"
      ]
     },
     "execution_count": 84,
     "metadata": {},
     "output_type": "execute_result"
    }
   ],
   "source": [
    "metrics.r2_score(y_te,pred1)"
   ]
  },
  {
   "cell_type": "code",
   "execution_count": 85,
   "metadata": {},
   "outputs": [
    {
     "data": {
      "image/png": "[encoded data removed]",
      "text/plain": [
       "<Figure size 432x288 with 1 Axes>"
      ]
     },
     "metadata": {
      "needs_background": "light"
     },
     "output_type": "display_data"
    }
   ],
   "source": [
    "plt.scatter(y_te,pred1)\n",
    "plt.show()"
   ]
  },
  {
   "cell_type": "code",
   "execution_count": null,
   "metadata": {},
   "outputs": [],
   "source": []
  }
 ],
 "metadata": {
  "kernelspec": {
   "display_name": "Python 3",
   "language": "python",
   "name": "python3"
  },
  "language_info": {
   "codemirror_mode": {
    "name": "ipython",
    "version": 3
   },
   "file_extension": ".py",
   "mimetype": "text/x-python",
   "name": "python",
   "nbconvert_exporter": "python",
   "pygments_lexer": "ipython3",
   "version": "3.7.4"
  }
 },
 "nbformat": 4,
 "nbformat_minor": 2
}
